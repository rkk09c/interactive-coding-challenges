{
 "cells": [
  {
   "cell_type": "code",
   "execution_count": 11,
   "metadata": {},
   "outputs": [],
   "source": [
    "from collections import namedtuple\n",
    "from pprint import pprint\n",
    "import multiprocessing\n",
    "import time"
   ]
  },
  {
   "cell_type": "code",
   "execution_count": 2,
   "metadata": {},
   "outputs": [],
   "source": [
    "Scientist = namedtuple('Scientist', ['name', 'field', 'born', 'nobel'])"
   ]
  },
  {
   "cell_type": "code",
   "execution_count": 8,
   "metadata": {},
   "outputs": [],
   "source": [
    "scientists_arr = [\n",
    "    ['Ada Lovelace', 'math', 1815, False],\n",
    "    ['Emmy Noether', 'math', 1882, False],\n",
    "    ['Marie Curie', 'physics', 1867, True],\n",
    "    ['Tu Youyou', 'chemistry', 1930, True],\n",
    "    ['Ada Yonath', 'chemistry', 1939, True],\n",
    "    ['Vera Rubin', 'astronomy', 1928, False],\n",
    "    ['Sally Ride', 'physics', 1951, False]\n",
    "]\n",
    "\n",
    "def transform(sci_arr_element):\n",
    "    return Scientist(\n",
    "        name=sci_arr_element[0], \n",
    "        field=sci_arr_element[1], \n",
    "        born=sci_arr_element[2], \n",
    "        nobel=sci_arr_element[3]\n",
    "    )\n",
    "\n",
    "scientists = tuple(map(\n",
    "    transform,\n",
    "    scientists_arr\n",
    "))"
   ]
  },
  {
   "cell_type": "code",
   "execution_count": 16,
   "metadata": {},
   "outputs": [
    {
     "name": "stdout",
     "output_type": "stream",
     "text": [
      "Time to complete: 1.04s\n",
      "({'age': 203, 'name': 'Ada Lovelace'},\n",
      " {'age': 136, 'name': 'Emmy Noether'},\n",
      " {'age': 151, 'name': 'Marie Curie'},\n",
      " {'age': 88, 'name': 'Tu Youyou'},\n",
      " {'age': 79, 'name': 'Ada Yonath'},\n",
      " {'age': 90, 'name': 'Vera Rubin'},\n",
      " {'age': 67, 'name': 'Sally Ride'})\n"
     ]
    }
   ],
   "source": [
    "scientists = (\n",
    "    Scientist(name='Ada Lovelace', field='math', born=1815, nobel=False),\n",
    "    Scientist(name='Emmy Noether', field='math', born=1882, nobel=False),\n",
    "    Scientist(name='Marie Curie', field='physics', born=1867, nobel=True),\n",
    "    Scientist(name='Tu Youyou', field='chemistry', born=1930, nobel=True),\n",
    "    Scientist(name='Ada Yonath', field='chemistry', born=1939, nobel=True),\n",
    "    Scientist(name='Vera Rubin', field='astronomy', born=1928, nobel=False),\n",
    "    Scientist(name='Sally Ride', field='physics', born=1951, nobel=False)\n",
    ")\n",
    "\n",
    "def transform(scientist):\n",
    "    time.sleep(1)\n",
    "    return {'name': scientist.name, 'age': 2018 - scientist.born}\n",
    "\n",
    "def reducer(total, scientist):\n",
    "    total += 2018 - scientist.age\n",
    "    return total\n",
    "\n",
    "start = time.time()\n",
    "\n",
    "pool = multiprocessing.Pool()\n",
    "result = tuple(pool.map(transform, scientists))\n",
    "\n",
    "end = time.time()\n",
    "\n",
    "print(f'Time to complete: {end - start:.2f}s')\n",
    "pprint(result)"
   ]
  },
  {
   "cell_type": "code",
   "execution_count": 19,
   "metadata": {},
   "outputs": [
    {
     "name": "stdout",
     "output_type": "stream",
     "text": [
      "Time to complete: 1.01s\n",
      "({'age': 203, 'name': 'Ada Lovelace'},\n",
      " {'age': 136, 'name': 'Emmy Noether'},\n",
      " {'age': 151, 'name': 'Marie Curie'},\n",
      " {'age': 88, 'name': 'Tu Youyou'},\n",
      " {'age': 79, 'name': 'Ada Yonath'},\n",
      " {'age': 90, 'name': 'Vera Rubin'},\n",
      " {'age': 67, 'name': 'Sally Ride'})\n"
     ]
    }
   ],
   "source": [
    "import concurrent.futures\n",
    "\n",
    "start = time.time()\n",
    "\n",
    "with concurrent.futures.ThreadPoolExecutor() as executor:\n",
    "    result = executor.map(transform, scientists)\n",
    "    \n",
    "end = time.time()\n",
    "\n",
    "print(f'Time to complete: {end - start:.2f}s')\n",
    "pprint(tuple(result))"
   ]
  },
  {
   "cell_type": "code",
   "execution_count": 20,
   "metadata": {},
   "outputs": [
    {
     "name": "stdout",
     "output_type": "stream",
     "text": [
      "Time to complete: 1.14s\n",
      "({'age': 203, 'name': 'Ada Lovelace'},\n",
      " {'age': 136, 'name': 'Emmy Noether'},\n",
      " {'age': 151, 'name': 'Marie Curie'},\n",
      " {'age': 88, 'name': 'Tu Youyou'},\n",
      " {'age': 79, 'name': 'Ada Yonath'},\n",
      " {'age': 90, 'name': 'Vera Rubin'},\n",
      " {'age': 67, 'name': 'Sally Ride'})\n"
     ]
    }
   ],
   "source": [
    "start = time.time()\n",
    "\n",
    "with concurrent.futures.ProcessPoolExecutor() as executor:\n",
    "    result = executor.map(transform, scientists)\n",
    "    \n",
    "end = time.time()\n",
    "\n",
    "print(f'Time to complete: {end - start:.2f}s')\n",
    "pprint(tuple(result))"
   ]
  },
  {
   "cell_type": "code",
   "execution_count": null,
   "metadata": {},
   "outputs": [],
   "source": []
  }
 ],
 "metadata": {
  "kernelspec": {
   "display_name": "Python 3",
   "language": "python",
   "name": "python3"
  },
  "language_info": {
   "codemirror_mode": {
    "name": "ipython",
    "version": 3
   },
   "file_extension": ".py",
   "mimetype": "text/x-python",
   "name": "python",
   "nbconvert_exporter": "python",
   "pygments_lexer": "ipython3",
   "version": "3.7.0"
  }
 },
 "nbformat": 4,
 "nbformat_minor": 2
}
