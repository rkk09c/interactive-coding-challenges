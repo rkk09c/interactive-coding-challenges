{
 "cells": [
  {
   "cell_type": "markdown",
   "metadata": {},
   "source": [
    "This notebook was prepared by [Donne Martin](https://github.com/donnemartin). Source and license info is on [GitHub](https://github.com/donnemartin/interactive-coding-challenges)."
   ]
  },
  {
   "cell_type": "markdown",
   "metadata": {},
   "source": [
    "# Challenge Notebook"
   ]
  },
  {
   "cell_type": "markdown",
   "metadata": {},
   "source": [
    "## Problem: Determine the total number of unique ways to make n cents, given coins of denominations less than n cents.\n",
    "\n",
    "* [Constraints](#Constraints)\n",
    "* [Test Cases](#Test-Cases)\n",
    "* [Algorithm](#Algorithm)\n",
    "* [Code](#Code)\n",
    "* [Unit Test](#Unit-Test)\n",
    "* [Solution Notebook](#Solution-Notebook)"
   ]
  },
  {
   "cell_type": "markdown",
   "metadata": {},
   "source": [
    "## Constraints\n",
    "\n",
    "* Do the coins have to reach exactly n cents?\n",
    "    * Yes\n",
    "* Can we assume we have an infinite number of coins to make n cents?\n",
    "    * Yes\n",
    "* Do we need to report the combination(s) of coins that represent the minimum?\n",
    "    * No\n",
    "* Can we assume the coin denominations are given in sorted order?\n",
    "    * No\n",
    "* Can we assume this fits memory?\n",
    "    * Yes"
   ]
  },
  {
   "cell_type": "markdown",
   "metadata": {},
   "source": [
    "## Test Cases\n",
    "\n",
    "* coins: None or n: None -> Exception\n",
    "* coins: [] or n: 0 -> 0\n",
    "* coins: [1, 2, 3], n: 5 -> 5"
   ]
  },
  {
   "cell_type": "markdown",
   "metadata": {},
   "source": [
    "## Algorithm\n",
    "\n",
    "Refer to the [Solution Notebook](http://nbviewer.ipython.org/github/donnemartin/interactive-coding-challenges/blob/master/recursion_dynamic/coin_change/coin_change_solution.ipynb).  If you are stuck and need a hint, the solution notebook's algorithm discussion might be a good place to start."
   ]
  },
  {
   "cell_type": "markdown",
   "metadata": {},
   "source": [
    "## Code"
   ]
  },
  {
   "cell_type": "code",
   "execution_count": 3,
   "metadata": {
    "collapsed": false
   },
   "outputs": [],
   "source": [
    "class CoinChanger(object):\n",
    "\n",
    "    def make_change(self, coins: int, total: int) -> int:\n",
    "        if coins is None or total is None:\n",
    "            raise ValueError('coins and total need to be integer values')\n",
    "        if coins == 0 or total == 0:\n",
    "            return 0\n",
    "\n",
    "        coins = [0] + coins\n",
    "        num_cols = total + 1\n",
    "        num_rows = len(coins)\n",
    "        matrix = [[None] * num_cols for _ in range(num_rows)]\n",
    "\n",
    "        for i in range(num_rows):\n",
    "            for j in range(num_cols):\n",
    "                # Base Case\n",
    "                if i == 0:\n",
    "                    matrix[0][j] = 0\n",
    "                    continue\n",
    "                if j == 0:\n",
    "                    matrix[i][0] = 1\n",
    "                    continue\n",
    "                if coins[i] <= j:\n",
    "                    # Need to select example from above + [i] // j\n",
    "                    matrix[i][j] = matrix[i - 1][j] + matrix[i][j - coins[i]]\n",
    "                    pass\n",
    "                else: # coins[i] > j:\n",
    "                    # Select example from above\n",
    "                    matrix[i][j] = matrix[i - 1][j]\n",
    "        \n",
    "        return matrix[num_rows - 1][num_cols - 1]\n",
    "    \n"
   ]
  },
  {
   "cell_type": "markdown",
   "metadata": {},
   "source": [
    "## Unit Test\n",
    "\n",
    "\n",
    "\n",
    "**The following unit test is expected to fail until you solve the challenge.**"
   ]
  },
  {
   "cell_type": "code",
   "execution_count": 4,
   "metadata": {
    "collapsed": false
   },
   "outputs": [
    {
     "name": "stdout",
     "output_type": "stream",
     "text": [
      "Success: test_coin_change\n"
     ]
    }
   ],
   "source": [
    "# %load test_coin_change.py\n",
    "from nose.tools import assert_equal\n",
    "\n",
    "\n",
    "class Challenge(object):\n",
    "\n",
    "    def test_coin_change(self):\n",
    "        coin_changer = CoinChanger()\n",
    "        assert_equal(coin_changer.make_change([1, 2], 0), 0)\n",
    "        assert_equal(coin_changer.make_change([1, 2, 3], 5), 5)\n",
    "        assert_equal(coin_changer.make_change([1, 5, 25, 50], 10), 3)\n",
    "        print('Success: test_coin_change')\n",
    "\n",
    "\n",
    "def main():\n",
    "    test = Challenge()\n",
    "    test.test_coin_change()\n",
    "\n",
    "\n",
    "if __name__ == '__main__':\n",
    "    main()"
   ]
  },
  {
   "cell_type": "markdown",
   "metadata": {},
   "source": [
    "## Solution Notebook\n",
    "\n",
    "Review the [Solution Notebook](http://nbviewer.ipython.org/github/donnemartin/interactive-coding-challenges/blob/master/recursion_dynamic/coin_change/coin_change_solution.ipynb) for a discussion on algorithms and code solutions."
   ]
  },
  {
   "cell_type": "code",
   "execution_count": null,
   "metadata": {},
   "outputs": [],
   "source": []
  }
 ],
 "metadata": {
  "kernelspec": {
   "display_name": "Python 3",
   "language": "python",
   "name": "python3"
  },
  "language_info": {
   "codemirror_mode": {
    "name": "ipython",
    "version": 3
   },
   "file_extension": ".py",
   "mimetype": "text/x-python",
   "name": "python",
   "nbconvert_exporter": "python",
   "pygments_lexer": "ipython3",
   "version": "3.7.0"
  }
 },
 "nbformat": 4,
 "nbformat_minor": 2
}
