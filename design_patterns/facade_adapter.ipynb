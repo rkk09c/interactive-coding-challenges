{
 "cells": [
  {
   "cell_type": "markdown",
   "metadata": {},
   "source": [
    "# Design Patterns"
   ]
  },
  {
   "cell_type": "markdown",
   "metadata": {},
   "source": [
    "### Façade & Adapter"
   ]
  },
  {
   "cell_type": "code",
   "execution_count": null,
   "metadata": {},
   "outputs": [],
   "source": [
    "class Elf:\n",
    "    name = 'Galadriel'\n",
    "    def nall_nin(self):\n",
    "        print('Elf says: Calling the Overlord ...')\n",
    "\n",
    "\n",
    "class Dwarf:\n",
    "    def estver_narho(self):\n",
    "        print('Dwarf says: Calling the Overlord ...')\n",
    "\n",
    "\n",
    "class Human:\n",
    "    def ring_mig(self):\n",
    "        print('Human says: Calling the Overlord ...')\n",
    "\n",
    "\n",
    "class MinionAdapter:\n",
    "    _initialised = False\n",
    "\n",
    "    def __init__(self, minion, **adapted_methods):\n",
    "        self.minion = minion\n",
    "\n",
    "        for key, value in adapted_methods.items():\n",
    "            func = getattr(self.minion, value)\n",
    "            self.__setattr__(key, func)\n",
    "\n",
    "        self._initialised = True\n",
    "\n",
    "    def __getattr__(self, attr):\n",
    "        \"\"\"Attributes not in Adapter are delegated to the minion\"\"\"\n",
    "        return getattr(self.minion, attr)\n",
    "\n",
    "    def __setattr__(self, key, value):\n",
    "        \"\"\"Set attributes normally during initialisation\"\"\"\n",
    "        if not self._initialised:\n",
    "            super().__setattr__(key, value)\n",
    "        else:\n",
    "            \"\"\"Set attributes on minion after initialisation\"\"\"\n",
    "            setattr(self.minion, key, value)\n",
    "\n",
    "\n",
    "class MinionFacade:\n",
    "    minion_adapters = None\n",
    "\n",
    "    @classmethod\n",
    "    def create_minions(cls):\n",
    "        print('Creating minions ...')\n",
    "        cls.minion_adapters = [\n",
    "            MinionAdapter(Elf(), call_me='nall_nin'),\n",
    "            MinionAdapter(Dwarf(), call_me='estver_narho'),\n",
    "            MinionAdapter(Human(), call_me='ring_mig')\n",
    "        ]\n",
    "\n",
    "    @classmethod\n",
    "    def summon_minions(cls):\n",
    "        print('Summoning minions ...')\n",
    "        for adapter in cls.minion_adapters:\n",
    "            adapter.call_me()\n",
    "\n",
    "\n",
    "if __name__ == '__main__':\n",
    "    MinionFacade.create_minions()\n",
    "    MinionFacade.summon_minions()"
   ]
  }
 ],
 "metadata": {
  "kernelspec": {
   "display_name": "Python 2",
   "language": "python",
   "name": "python2"
  },
  "language_info": {
   "codemirror_mode": {
    "name": "ipython",
    "version": 3
   },
   "file_extension": ".py",
   "mimetype": "text/x-python",
   "name": "python",
   "nbconvert_exporter": "python",
   "pygments_lexer": "ipython3",
   "version": "3.7.0"
  }
 },
 "nbformat": 4,
 "nbformat_minor": 2
}
