{
 "cells": [
  {
   "cell_type": "markdown",
   "metadata": {},
   "source": [
    "This notebook was prepared by [Donne Martin](https://github.com/donnemartin). Source and license info is on [GitHub](https://github.com/donnemartin/interactive-coding-challenges)."
   ]
  },
  {
   "cell_type": "markdown",
   "metadata": {},
   "source": [
    "# Challenge Notebook"
   ]
  },
  {
   "cell_type": "markdown",
   "metadata": {},
   "source": [
    "## Problem: Flip one bit from 0 to 1 to maximize the longest sequence of 1s.\n",
    "\n",
    "* [Constraints](#Constraints)\n",
    "* [Test Cases](#Test-Cases)\n",
    "* [Algorithm](#Algorithm)\n",
    "* [Code](#Code)\n",
    "* [Unit Test](#Unit-Test)\n",
    "* [Solution Notebook](#Solution-Notebook)"
   ]
  },
  {
   "cell_type": "markdown",
   "metadata": {},
   "source": [
    "## Constraints\n",
    "\n",
    "* Is the input an int, base 2?\n",
    "    * Yes\n",
    "* Can we assume the input is a 32 bit number?\n",
    "    * Yes\n",
    "* Do we have to validate the length of the input?\n",
    "    * No\n",
    "* Is the output an int?\n",
    "    * Yes\n",
    "* Can we assume the inputs are valid?\n",
    "    * No\n",
    "* Can we assume we are using a positive number since Python doesn't have an >>> operator?\n",
    "    * Yes\n",
    "* Can we assume this fits memory?\n",
    "    * Yes"
   ]
  },
  {
   "cell_type": "markdown",
   "metadata": {},
   "source": [
    "## Test Cases\n",
    "\n",
    "* None -> Exception\n",
    "* All 1's -> Count of 1s\n",
    "* All 0's -> 1\n",
    "* General case\n",
    "    * 0000 1111 1101 1101 1111 0011 1111 0000 -> 10 (ten)"
   ]
  },
  {
   "cell_type": "markdown",
   "metadata": {},
   "source": [
    "## Algorithm\n",
    "\n",
    "Refer to the [Solution Notebook]().  If you are stuck and need a hint, the solution notebook's algorithm discussion might be a good place to start."
   ]
  },
  {
   "cell_type": "markdown",
   "metadata": {},
   "source": [
    "## Code"
   ]
  },
  {
   "cell_type": "code",
   "execution_count": 16,
   "metadata": {
    "collapsed": false
   },
   "outputs": [],
   "source": [
    "\"\"\"\n",
    "The purpose of this question is to flip a 0 bit to a 1 \n",
    "bit in order to find the longest sequence of 1's\n",
    "\n",
    "Example:\n",
    "    >>> FlipBit(int(00001111110111011111001111110000, base=2))\n",
    "    10\n",
    "\n",
    "    >>> FlipBit(int(1111111111, base=2))\n",
    "    10\n",
    "\n",
    "    >>> FlipBit(int(0000000000, base=2))\n",
    "    0\n",
    "\n",
    "Edge cases:\n",
    "    >>> FlipBit(None)\n",
    "    TypeError('a binary integer is expected input')\n",
    "\"\"\"\n",
    "\n",
    "class Buffer(object):\n",
    "    \n",
    "    def __init__(self):\n",
    "        self.length = 0\n",
    "        self.zero_seen = False\n",
    "        self.buffer = []\n",
    "\n",
    "    def __len__(self):\n",
    "        return self.length\n",
    "    \n",
    "    def clear(self):\n",
    "        self.length = 0\n",
    "        self.zero_seen = False\n",
    "    \n",
    "    def push(self, bit):\n",
    "        if bit == 0:  \n",
    "            if self.length > 0 and not self.zero_seen:\n",
    "                self.length += 1\n",
    "                self.zero_seen = True\n",
    "                self.buffer.append(bit)\n",
    "            elif self.zero_seen:\n",
    "                length = self.length\n",
    "                print(\"Buffer before clear: {0}\".format(self.buffer))\n",
    "                self.clear()\n",
    "                return length\n",
    "        else:\n",
    "            self.length += 1\n",
    "            self.buffer.append(bit)\n",
    "        \n",
    "        return self.length\n",
    "\n",
    "    def peek(self):\n",
    "        return self.buffer\n",
    "\n",
    "\n",
    "class Bits(object):\n",
    "\n",
    "    def __init__(self):\n",
    "        self.longest_string = 0\n",
    "        self.previous = None\n",
    "        self.current = None\n",
    "        self.first_zero = False\n",
    "        self.buffer_1 = Buffer()\n",
    "        self.buffer_2 = Buffer()\n",
    "\n",
    "    def flip_bit(self, number):\n",
    "        if not isinstance(number, int):\n",
    "            raise TypeError('a binary integer is expected input')\n",
    "\n",
    "        while number:\n",
    "            bit = number & 1\n",
    "            self.track_state(bit)\n",
    "            self.push_to_buffer(bit)\n",
    "            \n",
    "            # Shift the number to the right 1 place\n",
    "            number >>= 1\n",
    "\n",
    "        return self.longest_string\n",
    "\n",
    "    def track_state(self, value):\n",
    "        self.previous = self.current\n",
    "        self.current = value\n",
    "        \n",
    "        if self.previous == 1 and self.current ==0:\n",
    "            self.first_zero = True\n",
    "\n",
    "    def push_to_buffer(self, value):\n",
    "        if not self.first_zero:\n",
    "            self.buffer_1.push(value)\n",
    "        else:\n",
    "            b1 = self.buffer_1.push(value)\n",
    "            b2 = self.buffer_2.push(value)\n",
    "            self.longest_string = max(self.longest_string, b1, b2)\n",
    "\n",
    "        print(\"\\nBuffer 1: {0}\".format(self.buffer_1.buffer))\n",
    "        print(\"Buffer 2: {0}\\n\".format(self.buffer_2.buffer))\n"
   ]
  },
  {
   "cell_type": "code",
   "execution_count": 17,
   "metadata": {},
   "outputs": [
    {
     "name": "stdout",
     "output_type": "stream",
     "text": [
      "\n",
      "Buffer 1: []\n",
      "Buffer 2: []\n",
      "\n",
      "\n",
      "Buffer 1: []\n",
      "Buffer 2: []\n",
      "\n",
      "\n",
      "Buffer 1: []\n",
      "Buffer 2: []\n",
      "\n",
      "\n",
      "Buffer 1: []\n",
      "Buffer 2: []\n",
      "\n",
      "\n",
      "Buffer 1: [1]\n",
      "Buffer 2: []\n",
      "\n",
      "\n",
      "Buffer 1: [1, 1]\n",
      "Buffer 2: []\n",
      "\n",
      "\n",
      "Buffer 1: [1, 1, 1]\n",
      "Buffer 2: []\n",
      "\n",
      "\n",
      "Buffer 1: [1, 1, 1, 1]\n",
      "Buffer 2: []\n",
      "\n",
      "\n",
      "Buffer 1: [1, 1, 1, 1, 1]\n",
      "Buffer 2: []\n",
      "\n",
      "\n",
      "Buffer 1: [1, 1, 1, 1, 1, 1]\n",
      "Buffer 2: []\n",
      "\n",
      "\n",
      "Buffer 1: [1, 1, 1, 1, 1, 1, 0]\n",
      "Buffer 2: []\n",
      "\n",
      "Buffer before clear: [1, 1, 1, 1, 1, 1, 0]\n",
      "\n",
      "Buffer 1: [1, 1, 1, 1, 1, 1, 0]\n",
      "Buffer 2: []\n",
      "\n",
      "\n",
      "Buffer 1: [1, 1, 1, 1, 1, 1, 0]\n",
      "Buffer 2: []\n",
      "\n",
      "\n",
      "Buffer 1: [1, 1, 1, 1, 1, 1, 0, 1]\n",
      "Buffer 2: [1]\n",
      "\n",
      "\n",
      "Buffer 1: [1, 1, 1, 1, 1, 1, 0, 1, 1]\n",
      "Buffer 2: [1, 1]\n",
      "\n",
      "\n",
      "Buffer 1: [1, 1, 1, 1, 1, 1, 0, 1, 1, 1]\n",
      "Buffer 2: [1, 1, 1]\n",
      "\n",
      "\n",
      "Buffer 1: [1, 1, 1, 1, 1, 1, 0, 1, 1, 1, 1]\n",
      "Buffer 2: [1, 1, 1, 1]\n",
      "\n",
      "\n",
      "Buffer 1: [1, 1, 1, 1, 1, 1, 0, 1, 1, 1, 1, 0]\n",
      "Buffer 2: [1, 1, 1, 1, 0]\n",
      "\n",
      "\n",
      "Buffer 1: [1, 1, 1, 1, 1, 1, 0, 1, 1, 1, 1, 0, 1]\n",
      "Buffer 2: [1, 1, 1, 1, 0, 1]\n",
      "\n",
      "\n",
      "Buffer 1: [1, 1, 1, 1, 1, 1, 0, 1, 1, 1, 1, 0, 1, 1]\n",
      "Buffer 2: [1, 1, 1, 1, 0, 1, 1]\n",
      "\n",
      "\n",
      "Buffer 1: [1, 1, 1, 1, 1, 1, 0, 1, 1, 1, 1, 0, 1, 1, 1]\n",
      "Buffer 2: [1, 1, 1, 1, 0, 1, 1, 1]\n",
      "\n",
      "Buffer before clear: [1, 1, 1, 1, 1, 1, 0, 1, 1, 1, 1, 0, 1, 1, 1]\n",
      "Buffer before clear: [1, 1, 1, 1, 0, 1, 1, 1]\n",
      "\n",
      "Buffer 1: [1, 1, 1, 1, 1, 1, 0, 1, 1, 1, 1, 0, 1, 1, 1]\n",
      "Buffer 2: [1, 1, 1, 1, 0, 1, 1, 1]\n",
      "\n",
      "\n",
      "Buffer 1: [1, 1, 1, 1, 1, 1, 0, 1, 1, 1, 1, 0, 1, 1, 1, 1]\n",
      "Buffer 2: [1, 1, 1, 1, 0, 1, 1, 1, 1]\n",
      "\n",
      "\n",
      "Buffer 1: [1, 1, 1, 1, 1, 1, 0, 1, 1, 1, 1, 0, 1, 1, 1, 1, 1]\n",
      "Buffer 2: [1, 1, 1, 1, 0, 1, 1, 1, 1, 1]\n",
      "\n",
      "\n",
      "Buffer 1: [1, 1, 1, 1, 1, 1, 0, 1, 1, 1, 1, 0, 1, 1, 1, 1, 1, 1]\n",
      "Buffer 2: [1, 1, 1, 1, 0, 1, 1, 1, 1, 1, 1]\n",
      "\n",
      "\n",
      "Buffer 1: [1, 1, 1, 1, 1, 1, 0, 1, 1, 1, 1, 0, 1, 1, 1, 1, 1, 1, 1]\n",
      "Buffer 2: [1, 1, 1, 1, 0, 1, 1, 1, 1, 1, 1, 1]\n",
      "\n",
      "\n",
      "Buffer 1: [1, 1, 1, 1, 1, 1, 0, 1, 1, 1, 1, 0, 1, 1, 1, 1, 1, 1, 1, 1]\n",
      "Buffer 2: [1, 1, 1, 1, 0, 1, 1, 1, 1, 1, 1, 1, 1]\n",
      "\n",
      "\n",
      "Buffer 1: [1, 1, 1, 1, 1, 1, 0, 1, 1, 1, 1, 0, 1, 1, 1, 1, 1, 1, 1, 1, 1]\n",
      "Buffer 2: [1, 1, 1, 1, 0, 1, 1, 1, 1, 1, 1, 1, 1, 1]\n",
      "\n"
     ]
    },
    {
     "data": {
      "text/plain": [
       "8"
      ]
     },
     "execution_count": 17,
     "metadata": {},
     "output_type": "execute_result"
    }
   ],
   "source": [
    "fb = FlipBit()\n",
    "fb.flip_bit(int('00001111110111011110001111110000', base=2))"
   ]
  },
  {
   "cell_type": "markdown",
   "metadata": {},
   "source": [
    "## Unit Test"
   ]
  },
  {
   "cell_type": "markdown",
   "metadata": {},
   "source": [
    "**The following unit test is expected to fail until you solve the challenge.**"
   ]
  },
  {
   "cell_type": "code",
   "execution_count": 18,
   "metadata": {
    "collapsed": false
   },
   "outputs": [
    {
     "ename": "AssertionError",
     "evalue": "0 != 1",
     "output_type": "error",
     "traceback": [
      "\u001b[0;31m---------------------------------------------------------------------------\u001b[0m",
      "\u001b[0;31mAssertionError\u001b[0m                            Traceback (most recent call last)",
      "\u001b[0;32m<ipython-input-18-878fa109f20e>\u001b[0m in \u001b[0;36m<module>\u001b[0;34m()\u001b[0m\n\u001b[1;32m     28\u001b[0m \u001b[0;34m\u001b[0m\u001b[0m\n\u001b[1;32m     29\u001b[0m \u001b[0;32mif\u001b[0m \u001b[0m__name__\u001b[0m \u001b[0;34m==\u001b[0m \u001b[0;34m'__main__'\u001b[0m\u001b[0;34m:\u001b[0m\u001b[0;34m\u001b[0m\u001b[0m\n\u001b[0;32m---> 30\u001b[0;31m     \u001b[0mmain\u001b[0m\u001b[0;34m(\u001b[0m\u001b[0;34m)\u001b[0m\u001b[0;34m\u001b[0m\u001b[0m\n\u001b[0m",
      "\u001b[0;32m<ipython-input-18-878fa109f20e>\u001b[0m in \u001b[0;36mmain\u001b[0;34m()\u001b[0m\n\u001b[1;32m     24\u001b[0m \u001b[0;32mdef\u001b[0m \u001b[0mmain\u001b[0m\u001b[0;34m(\u001b[0m\u001b[0;34m)\u001b[0m\u001b[0;34m:\u001b[0m\u001b[0;34m\u001b[0m\u001b[0m\n\u001b[1;32m     25\u001b[0m     \u001b[0mtest\u001b[0m \u001b[0;34m=\u001b[0m \u001b[0mTestBits\u001b[0m\u001b[0;34m(\u001b[0m\u001b[0;34m)\u001b[0m\u001b[0;34m\u001b[0m\u001b[0m\n\u001b[0;32m---> 26\u001b[0;31m     \u001b[0mtest\u001b[0m\u001b[0;34m.\u001b[0m\u001b[0mtest_flip_bit\u001b[0m\u001b[0;34m(\u001b[0m\u001b[0;34m)\u001b[0m\u001b[0;34m\u001b[0m\u001b[0m\n\u001b[0m\u001b[1;32m     27\u001b[0m \u001b[0;34m\u001b[0m\u001b[0m\n\u001b[1;32m     28\u001b[0m \u001b[0;34m\u001b[0m\u001b[0m\n",
      "\u001b[0;32m<ipython-input-18-878fa109f20e>\u001b[0m in \u001b[0;36mtest_flip_bit\u001b[0;34m(self)\u001b[0m\n\u001b[1;32m      8\u001b[0m         \u001b[0mbits\u001b[0m \u001b[0;34m=\u001b[0m \u001b[0mBits\u001b[0m\u001b[0;34m(\u001b[0m\u001b[0;34m)\u001b[0m\u001b[0;34m\u001b[0m\u001b[0m\n\u001b[1;32m      9\u001b[0m         \u001b[0massert_raises\u001b[0m\u001b[0;34m(\u001b[0m\u001b[0mTypeError\u001b[0m\u001b[0;34m,\u001b[0m \u001b[0mbits\u001b[0m\u001b[0;34m.\u001b[0m\u001b[0mflip_bit\u001b[0m\u001b[0;34m,\u001b[0m \u001b[0;32mNone\u001b[0m\u001b[0;34m)\u001b[0m\u001b[0;34m\u001b[0m\u001b[0m\n\u001b[0;32m---> 10\u001b[0;31m         \u001b[0massert_equal\u001b[0m\u001b[0;34m(\u001b[0m\u001b[0mbits\u001b[0m\u001b[0;34m.\u001b[0m\u001b[0mflip_bit\u001b[0m\u001b[0;34m(\u001b[0m\u001b[0;36m0\u001b[0m\u001b[0;34m)\u001b[0m\u001b[0;34m,\u001b[0m \u001b[0;36m1\u001b[0m\u001b[0;34m)\u001b[0m\u001b[0;34m\u001b[0m\u001b[0m\n\u001b[0m\u001b[1;32m     11\u001b[0m         \u001b[0massert_equal\u001b[0m\u001b[0;34m(\u001b[0m\u001b[0mbits\u001b[0m\u001b[0;34m.\u001b[0m\u001b[0mflip_bit\u001b[0m\u001b[0;34m(\u001b[0m\u001b[0;34m-\u001b[0m\u001b[0;36m1\u001b[0m\u001b[0;34m)\u001b[0m\u001b[0;34m,\u001b[0m \u001b[0mbits\u001b[0m\u001b[0;34m.\u001b[0m\u001b[0mMAX_BITS\u001b[0m\u001b[0;34m)\u001b[0m\u001b[0;34m\u001b[0m\u001b[0m\n\u001b[1;32m     12\u001b[0m         \u001b[0mnum\u001b[0m \u001b[0;34m=\u001b[0m \u001b[0mint\u001b[0m\u001b[0;34m(\u001b[0m\u001b[0;34m'00001111110111011110001111110000'\u001b[0m\u001b[0;34m,\u001b[0m \u001b[0mbase\u001b[0m\u001b[0;34m=\u001b[0m\u001b[0;36m2\u001b[0m\u001b[0;34m)\u001b[0m\u001b[0;34m\u001b[0m\u001b[0m\n",
      "\u001b[0;32m/usr/local/Cellar/python/3.7.0/Frameworks/Python.framework/Versions/3.7/lib/python3.7/unittest/case.py\u001b[0m in \u001b[0;36massertEqual\u001b[0;34m(self, first, second, msg)\u001b[0m\n\u001b[1;32m    837\u001b[0m         \"\"\"\n\u001b[1;32m    838\u001b[0m         \u001b[0massertion_func\u001b[0m \u001b[0;34m=\u001b[0m \u001b[0mself\u001b[0m\u001b[0;34m.\u001b[0m\u001b[0m_getAssertEqualityFunc\u001b[0m\u001b[0;34m(\u001b[0m\u001b[0mfirst\u001b[0m\u001b[0;34m,\u001b[0m \u001b[0msecond\u001b[0m\u001b[0;34m)\u001b[0m\u001b[0;34m\u001b[0m\u001b[0m\n\u001b[0;32m--> 839\u001b[0;31m         \u001b[0massertion_func\u001b[0m\u001b[0;34m(\u001b[0m\u001b[0mfirst\u001b[0m\u001b[0;34m,\u001b[0m \u001b[0msecond\u001b[0m\u001b[0;34m,\u001b[0m \u001b[0mmsg\u001b[0m\u001b[0;34m=\u001b[0m\u001b[0mmsg\u001b[0m\u001b[0;34m)\u001b[0m\u001b[0;34m\u001b[0m\u001b[0m\n\u001b[0m\u001b[1;32m    840\u001b[0m \u001b[0;34m\u001b[0m\u001b[0m\n\u001b[1;32m    841\u001b[0m     \u001b[0;32mdef\u001b[0m \u001b[0massertNotEqual\u001b[0m\u001b[0;34m(\u001b[0m\u001b[0mself\u001b[0m\u001b[0;34m,\u001b[0m \u001b[0mfirst\u001b[0m\u001b[0;34m,\u001b[0m \u001b[0msecond\u001b[0m\u001b[0;34m,\u001b[0m \u001b[0mmsg\u001b[0m\u001b[0;34m=\u001b[0m\u001b[0;32mNone\u001b[0m\u001b[0;34m)\u001b[0m\u001b[0;34m:\u001b[0m\u001b[0;34m\u001b[0m\u001b[0m\n",
      "\u001b[0;32m/usr/local/Cellar/python/3.7.0/Frameworks/Python.framework/Versions/3.7/lib/python3.7/unittest/case.py\u001b[0m in \u001b[0;36m_baseAssertEqual\u001b[0;34m(self, first, second, msg)\u001b[0m\n\u001b[1;32m    830\u001b[0m             \u001b[0mstandardMsg\u001b[0m \u001b[0;34m=\u001b[0m \u001b[0;34m'%s != %s'\u001b[0m \u001b[0;34m%\u001b[0m \u001b[0m_common_shorten_repr\u001b[0m\u001b[0;34m(\u001b[0m\u001b[0mfirst\u001b[0m\u001b[0;34m,\u001b[0m \u001b[0msecond\u001b[0m\u001b[0;34m)\u001b[0m\u001b[0;34m\u001b[0m\u001b[0m\n\u001b[1;32m    831\u001b[0m             \u001b[0mmsg\u001b[0m \u001b[0;34m=\u001b[0m \u001b[0mself\u001b[0m\u001b[0;34m.\u001b[0m\u001b[0m_formatMessage\u001b[0m\u001b[0;34m(\u001b[0m\u001b[0mmsg\u001b[0m\u001b[0;34m,\u001b[0m \u001b[0mstandardMsg\u001b[0m\u001b[0;34m)\u001b[0m\u001b[0;34m\u001b[0m\u001b[0m\n\u001b[0;32m--> 832\u001b[0;31m             \u001b[0;32mraise\u001b[0m \u001b[0mself\u001b[0m\u001b[0;34m.\u001b[0m\u001b[0mfailureException\u001b[0m\u001b[0;34m(\u001b[0m\u001b[0mmsg\u001b[0m\u001b[0;34m)\u001b[0m\u001b[0;34m\u001b[0m\u001b[0m\n\u001b[0m\u001b[1;32m    833\u001b[0m \u001b[0;34m\u001b[0m\u001b[0m\n\u001b[1;32m    834\u001b[0m     \u001b[0;32mdef\u001b[0m \u001b[0massertEqual\u001b[0m\u001b[0;34m(\u001b[0m\u001b[0mself\u001b[0m\u001b[0;34m,\u001b[0m \u001b[0mfirst\u001b[0m\u001b[0;34m,\u001b[0m \u001b[0msecond\u001b[0m\u001b[0;34m,\u001b[0m \u001b[0mmsg\u001b[0m\u001b[0;34m=\u001b[0m\u001b[0;32mNone\u001b[0m\u001b[0;34m)\u001b[0m\u001b[0;34m:\u001b[0m\u001b[0;34m\u001b[0m\u001b[0m\n",
      "\u001b[0;31mAssertionError\u001b[0m: 0 != 1"
     ]
    }
   ],
   "source": [
    "# %load test_flip_bit.py\n",
    "from nose.tools import assert_equal, assert_raises\n",
    "\n",
    "\n",
    "class TestBits(object):\n",
    "\n",
    "    def test_flip_bit(self):\n",
    "        bits = Bits()\n",
    "        assert_raises(TypeError, bits.flip_bit, None)\n",
    "        assert_equal(bits.flip_bit(0), 1)\n",
    "        assert_equal(bits.flip_bit(-1), bits.MAX_BITS)\n",
    "        num = int('00001111110111011110001111110000', base=2)\n",
    "        expected = 10\n",
    "        assert_equal(bits.flip_bit(num), expected)\n",
    "        num = int('00000100111011101111100011111011', base=2)\n",
    "        expected = 9\n",
    "        assert_equal(bits.flip_bit(num), expected)\n",
    "        num = int('00010011101110111110001111101111', base=2)\n",
    "        expected = 10\n",
    "        assert_equal(bits.flip_bit(num), expected)\n",
    "        print('Success: test_print_binary')\n",
    "\n",
    "\n",
    "def main():\n",
    "    test = TestBits()\n",
    "    test.test_flip_bit()\n",
    "\n",
    "\n",
    "if __name__ == '__main__':\n",
    "    main()"
   ]
  },
  {
   "cell_type": "markdown",
   "metadata": {},
   "source": [
    "## Solution Notebook\n",
    "\n",
    "Review the [Solution Notebook]() for a discussion on algorithms and code solutions."
   ]
  },
  {
   "cell_type": "code",
   "execution_count": null,
   "metadata": {},
   "outputs": [],
   "source": []
  }
 ],
 "metadata": {
  "kernelspec": {
   "display_name": "Python 3",
   "language": "python",
   "name": "python3"
  },
  "language_info": {
   "codemirror_mode": {
    "name": "ipython",
    "version": 3
   },
   "file_extension": ".py",
   "mimetype": "text/x-python",
   "name": "python",
   "nbconvert_exporter": "python",
   "pygments_lexer": "ipython3",
   "version": "3.7.0"
  }
 },
 "nbformat": 4,
 "nbformat_minor": 2
}
