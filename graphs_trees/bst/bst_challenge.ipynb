{
 "cells": [
  {
   "cell_type": "markdown",
   "metadata": {},
   "source": [
    "This notebook was prepared by [Donne Martin](https://github.com/donnemartin). Source and license info is on [GitHub](https://github.com/donnemartin/interactive-coding-challenges)."
   ]
  },
  {
   "cell_type": "markdown",
   "metadata": {},
   "source": [
    "# Challenge Notebook"
   ]
  },
  {
   "cell_type": "markdown",
   "metadata": {},
   "source": [
    "## Problem: Implement a binary search tree with an insert method.\n",
    "\n",
    "* [Constraints](#Constraints)\n",
    "* [Test Cases](#Test-Cases)\n",
    "* [Algorithm](#Algorithm)\n",
    "* [Code](#Code)\n",
    "* [Unit Test](#Unit-Test)"
   ]
  },
  {
   "cell_type": "markdown",
   "metadata": {},
   "source": [
    "## Constraints\n",
    "\n",
    "* Can we insert None values?\n",
    "    * No\n",
    "* Can we assume we are working with valid integers?\n",
    "    * Yes\n",
    "* Can we assume all left descendents <= n < all right descendents?\n",
    "    * Yes\n",
    "* Do we have to keep track of the parent nodes?\n",
    "    * This is optional\n",
    "* Can we assume this fits in memory?\n",
    "    * Yes"
   ]
  },
  {
   "cell_type": "markdown",
   "metadata": {},
   "source": [
    "## Test Cases\n",
    "\n",
    "### Insert\n",
    "\n",
    "Insert will be tested through the following traversal:\n",
    "\n",
    "### In-Order Traversal\n",
    "\n",
    "* 5, 2, 8, 1, 3 -> 1, 2, 3, 5, 8\n",
    "* 1, 2, 3, 4, 5 -> 1, 2, 3, 4, 5\n",
    "\n",
    "If the `root` input is `None`, return a tree with the only element being the new root node.\n",
    "\n",
    "You do not have to code the in-order traversal, it is part of the unit test."
   ]
  },
  {
   "cell_type": "markdown",
   "metadata": {},
   "source": [
    "## Algorithm\n",
    "\n",
    "Refer to the [Solution Notebook](http://nbviewer.ipython.org/github/donnemartin/interactive-coding-challenges/blob/master/graphs_trees/bst/bst_solution.ipynb).  If you are stuck and need a hint, the solution notebook's algorithm discussion might be a good place to start."
   ]
  },
  {
   "cell_type": "markdown",
   "metadata": {},
   "source": [
    "## Code"
   ]
  },
  {
   "cell_type": "code",
   "execution_count": 21,
   "metadata": {},
   "outputs": [],
   "source": [
    "class Node(object):\n",
    "    \n",
    "    def __init__(self, data: int):\n",
    "        if not isinstance(data, int):\n",
    "            raise ValueError('value should be an integer')\n",
    "        self.data = data\n",
    "        self.parent = None\n",
    "        self.left = None\n",
    "        self.right = None\n",
    "        \n",
    "\n",
    "class Bst(object):\n",
    "    \n",
    "    def __init__(self):\n",
    "        self.root = None\n",
    "        \n",
    "    def insert(self, data):\n",
    "        node = Node(data)\n",
    "        if self.root is None:\n",
    "            self.root = node\n",
    "            return node\n",
    "        else:\n",
    "            self._insert(self.root, node)\n",
    "            \n",
    "    def _insert(self, root, node):\n",
    "        if node.data <= root.data:\n",
    "            # insert left\n",
    "            if root.left is None:\n",
    "                node.parent = root\n",
    "                root.left = node\n",
    "                return node\n",
    "            else:\n",
    "                self._insert(root.left, node)\n",
    "            \n",
    "        else:\n",
    "            # insert right\n",
    "            if root.right is None:\n",
    "                node.parent = root\n",
    "                root.right = node\n",
    "                return node\n",
    "            else:\n",
    "                self._insert(root.right, node)"
   ]
  },
  {
   "cell_type": "markdown",
   "metadata": {},
   "source": [
    "## Unit Test"
   ]
  },
  {
   "cell_type": "markdown",
   "metadata": {},
   "source": [
    "**The following unit test is expected to fail until you solve the challenge.**"
   ]
  },
  {
   "cell_type": "code",
   "execution_count": 22,
   "metadata": {},
   "outputs": [],
   "source": [
    "%run dfs.py"
   ]
  },
  {
   "cell_type": "code",
   "execution_count": 23,
   "metadata": {},
   "outputs": [],
   "source": [
    "%run ../utils/results.py"
   ]
  },
  {
   "cell_type": "code",
   "execution_count": 24,
   "metadata": {},
   "outputs": [
    {
     "name": "stdout",
     "output_type": "stream",
     "text": [
      "Success: test_tree\n"
     ]
    }
   ],
   "source": [
    "# %load test_bst.py\n",
    "from nose.tools import assert_equal\n",
    "\n",
    "\n",
    "class TestTree(object):\n",
    "\n",
    "    def __init__(self):\n",
    "        self.results = Results()\n",
    "\n",
    "    def test_tree_one(self):\n",
    "        bst = Bst()\n",
    "        bst.insert(5)\n",
    "        bst.insert(2)\n",
    "        bst.insert(8)\n",
    "        bst.insert(1)\n",
    "        bst.insert(3)\n",
    "        in_order_traversal(bst.root, self.results.add_result)\n",
    "        assert_equal(str(self.results), '[1, 2, 3, 5, 8]')\n",
    "        self.results.clear_results()\n",
    "\n",
    "    def test_tree_two(self):\n",
    "        bst = Bst()\n",
    "        bst.insert(1)\n",
    "        bst.insert(2)\n",
    "        bst.insert(3)\n",
    "        bst.insert(4)\n",
    "        bst.insert(5)\n",
    "        in_order_traversal(bst.root, self.results.add_result)\n",
    "        assert_equal(str(self.results), '[1, 2, 3, 4, 5]')\n",
    "\n",
    "        print('Success: test_tree')\n",
    "\n",
    "\n",
    "def main():\n",
    "    test = TestTree()\n",
    "    test.test_tree_one()\n",
    "    test.test_tree_two()\n",
    "\n",
    "\n",
    "if __name__ == '__main__':\n",
    "    main()"
   ]
  },
  {
   "cell_type": "markdown",
   "metadata": {},
   "source": [
    "## Solution Notebook\n",
    "\n",
    "Review the [Solution Notebook](http://nbviewer.ipython.org/github/donnemartin/interactive-coding-challenges/blob/master/graphs_trees/bst/bst_solution.ipynb) for a discussion on algorithms and code solutions."
   ]
  },
  {
   "cell_type": "code",
   "execution_count": null,
   "metadata": {},
   "outputs": [],
   "source": [
    "class Node(object):\n",
    "\n",
    "    def __init__(self, data):\n",
    "        self.data = data\n",
    "        self.left = None\n",
    "        self.right = None\n",
    "        self.parent = None\n",
    "\n",
    "\n",
    "class Bst(object):\n",
    "    \n",
    "    def __init__(self, root: Node = None) -> None:\n",
    "        self.root = root\n",
    "\n",
    "    def insert(self, data: int) -> None:\n",
    "        if data is None:\n",
    "            raise ValueError('data needs to be an integer number')\n",
    "        if self.root is None:\n",
    "            self.root = Node(data)\n",
    "            return self.root\n",
    "        self._insert(Node(data), self.root)\n",
    "        \n",
    "    \n",
    "    def _insert(self, node: Node, root: Node) -> Node:\n",
    "        # FIXME: Some sort of base case needs to go here\n",
    "        if root is None:\n",
    "            root = node\n",
    "            return Node\n",
    "        if node.data <= root.data:\n",
    "            # insert left\n",
    "            if root.left is None:\n",
    "                root.left = node\n",
    "                node.parent = root\n",
    "                return node\n",
    "            self._insert(node, root.left)\n",
    "        else:\n",
    "            # insert right\n",
    "            if root.right is None:\n",
    "                root.right = node\n",
    "                node.parent = root\n",
    "                return node\n",
    "            self._insert(node, root.right)\n",
    "            "
   ]
  }
 ],
 "metadata": {
  "kernelspec": {
   "display_name": "Python 3",
   "language": "python",
   "name": "python3"
  },
  "language_info": {
   "codemirror_mode": {
    "name": "ipython",
    "version": 3
   },
   "file_extension": ".py",
   "mimetype": "text/x-python",
   "name": "python",
   "nbconvert_exporter": "python",
   "pygments_lexer": "ipython3",
   "version": "3.7.0"
  }
 },
 "nbformat": 4,
 "nbformat_minor": 2
}
