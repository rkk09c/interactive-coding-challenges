{
 "cells": [
  {
   "cell_type": "markdown",
   "metadata": {},
   "source": [
    "This notebook was prepared by [Donne Martin](https://github.com/donnemartin). Source and license info is on [GitHub](https://github.com/donnemartin/interactive-coding-challenges)."
   ]
  },
  {
   "cell_type": "markdown",
   "metadata": {},
   "source": [
    "# Challenge Notebook"
   ]
  },
  {
   "cell_type": "markdown",
   "metadata": {},
   "source": [
    "## Problem: Implement depth-first traversals (in-order, pre-order, post-order) on a binary tree.\n",
    "\n",
    "* [Constraints](#Constraints)\n",
    "* [Test Cases](#Test-Cases)\n",
    "* [Algorithm](#Algorithm)\n",
    "* [Code](#Code)\n",
    "* [Unit Test](#Unit-Test)"
   ]
  },
  {
   "cell_type": "markdown",
   "metadata": {},
   "source": [
    "## Constraints\n",
    "\n",
    "* Can we assume we already have a Node class with an insert method?\n",
    "    * Yes\n",
    "* What should we do with each node when we process it?\n",
    "    * Call an input method `visit_func` on the node\n",
    "* Can we assume this fits in memory?\n",
    "    * Yes"
   ]
  },
  {
   "cell_type": "markdown",
   "metadata": {},
   "source": [
    "## Test Cases\n",
    "\n",
    "### In-Order Traversal\n",
    "\n",
    "* 5, 2, 8, 1, 3 -> 1, 2, 3, 5, 8\n",
    "* 1, 2, 3, 4, 5 -> 1, 2, 3, 4, 5\n",
    "\n",
    "### Pre-Order Traversal\n",
    "\n",
    "* 5, 2, 8, 1, 3 -> 5, 2, 1, 3, 8\n",
    "* 1, 2, 3, 4, 5 -> 1, 2, 3, 4, 5\n",
    "\n",
    "### Post-Order Traversal\n",
    "\n",
    "* 5, 2, 8, 1, 3 -> 1, 3, 2, 8, 5\n",
    "* 1, 2, 3, 4, 5 -> 5, 4, 3, 2, 1"
   ]
  },
  {
   "cell_type": "markdown",
   "metadata": {},
   "source": [
    "## Algorithm\n",
    "\n",
    "Refer to the [Solution Notebook](http://nbviewer.ipython.org/github/donnemartin/interactive-coding-challenges/blob/master/graphs_trees/tree_dfs/dfs_solution.ipynb).  If you are stuck and need a hint, the solution notebook's algorithm discussion might be a good place to start."
   ]
  },
  {
   "cell_type": "markdown",
   "metadata": {},
   "source": [
    "## Code"
   ]
  },
  {
   "cell_type": "code",
   "execution_count": 1,
   "metadata": {
    "collapsed": true
   },
   "outputs": [],
   "source": [
    "# %load ../bst/bst.py\n",
    "class Node(object):\n",
    "\n",
    "    def __init__(self, data):\n",
    "        self.data = data\n",
    "        self.left = None\n",
    "        self.right = None\n",
    "        self.parent = None\n",
    "\n",
    "    def __repr__(self):\n",
    "        return str(self.data)\n",
    "\n",
    "\n",
    "class Bst(object):\n",
    "\n",
    "    def __init__(self, root=None):\n",
    "        self.root = root\n",
    "\n",
    "    def insert(self, data):\n",
    "        if data is None:\n",
    "            raise TypeError('data cannot be None')\n",
    "        if self.root is None:\n",
    "            self.root = Node(data)\n",
    "            return self.root\n",
    "        else:\n",
    "            return self._insert(self.root, data)\n",
    "\n",
    "    def _insert(self, node, data):\n",
    "        if node is None:\n",
    "            return Node(data)\n",
    "        if data <= node.data:\n",
    "            if node.left is None:\n",
    "                node.left = self._insert(node.left, data)\n",
    "                node.left.parent = node\n",
    "                return node.left\n",
    "            else:\n",
    "                return self._insert(node.left, data)\n",
    "        else:\n",
    "            if node.right is None:\n",
    "                node.right = self._insert(node.right, data)\n",
    "                node.right.parent = node\n",
    "                return node.right\n",
    "            else:\n",
    "                return self._insert(node.right, data)"
   ]
  },
  {
   "cell_type": "code",
   "execution_count": 17,
   "metadata": {
    "collapsed": false
   },
   "outputs": [],
   "source": [
    "from collections import deque\n",
    "\n",
    "class BstDfs(Bst):\n",
    "\n",
    "    def in_order_traversal(self, node, visit_func):\n",
    "        if node is not None:\n",
    "            self.in_order_traversal(node.left, visit_func)\n",
    "            visit_func(node)\n",
    "            self.in_order_traversal(node.right, visit_func)\n",
    "            \n",
    "\n",
    "    def pre_order_traversal(self, node, visit_func):\n",
    "        if node is not None:\n",
    "            visit_func(node)\n",
    "            self.pre_order_traversal(node.left, visit_func)\n",
    "            self.pre_order_traversal(node.right, visit_func)\n",
    "\n",
    "    def post_order_traversal(self,node, visit_func):\n",
    "        if node is not None:\n",
    "            self.post_order_traversal(node.left, visit_func)\n",
    "            self.post_order_traversal(node.right, visit_func)\n",
    "            visit_func(node)"
   ]
  },
  {
   "cell_type": "markdown",
   "metadata": {},
   "source": [
    "## Unit Test"
   ]
  },
  {
   "cell_type": "code",
   "execution_count": 18,
   "metadata": {
    "collapsed": true
   },
   "outputs": [],
   "source": [
    "%run ../utils/results.py"
   ]
  },
  {
   "cell_type": "code",
   "execution_count": 19,
   "metadata": {
    "collapsed": false
   },
   "outputs": [
    {
     "name": "stdout",
     "output_type": "stream",
     "text": [
      "Success: test_dfs\n"
     ]
    }
   ],
   "source": [
    "# %load test_dfs.py\n",
    "from nose.tools import assert_equal\n",
    "\n",
    "\n",
    "class TestDfs(object):\n",
    "\n",
    "    def __init__(self):\n",
    "        self.results = Results()\n",
    "\n",
    "    def test_dfs(self):\n",
    "        bst = BstDfs(Node(5))\n",
    "        bst.insert(2)\n",
    "        bst.insert(8)\n",
    "        bst.insert(1)\n",
    "        bst.insert(3)\n",
    "\n",
    "        bst.in_order_traversal(bst.root, self.results.add_result)\n",
    "        assert_equal(str(self.results), \"[1, 2, 3, 5, 8]\")\n",
    "        self.results.clear_results()\n",
    "\n",
    "        bst.pre_order_traversal(bst.root, self.results.add_result)\n",
    "        assert_equal(str(self.results), \"[5, 2, 1, 3, 8]\")\n",
    "        self.results.clear_results()\n",
    "\n",
    "        bst.post_order_traversal(bst.root, self.results.add_result)\n",
    "        assert_equal(str(self.results), \"[1, 3, 2, 8, 5]\")\n",
    "        self.results.clear_results()\n",
    "\n",
    "        bst = BstDfs(Node(1))\n",
    "        bst.insert(2)\n",
    "        bst.insert(3)\n",
    "        bst.insert(4)\n",
    "        bst.insert(5)\n",
    "\n",
    "        bst.in_order_traversal(bst.root, self.results.add_result)\n",
    "        assert_equal(str(self.results), \"[1, 2, 3, 4, 5]\")\n",
    "        self.results.clear_results()\n",
    "\n",
    "        bst.pre_order_traversal(bst.root, self.results.add_result)\n",
    "        assert_equal(str(self.results), \"[1, 2, 3, 4, 5]\")\n",
    "        self.results.clear_results()\n",
    "\n",
    "        bst.post_order_traversal(bst.root, self.results.add_result)\n",
    "        assert_equal(str(self.results), \"[5, 4, 3, 2, 1]\")\n",
    "\n",
    "        print('Success: test_dfs')\n",
    "\n",
    "\n",
    "def main():\n",
    "    test = TestDfs()\n",
    "    test.test_dfs()\n",
    "\n",
    "\n",
    "if __name__ == '__main__':\n",
    "    main()"
   ]
  },
  {
   "cell_type": "markdown",
   "metadata": {},
   "source": [
    "## Solution Notebook\n",
    "\n",
    "Review the [Solution Notebook](http://nbviewer.ipython.org/github/donnemartin/interactive-coding-challenges/blob/master/graphs_trees/tree_dfs/dfs_solution.ipynb) for a discussion on algorithms and code solutions."
   ]
  }
 ],
 "metadata": {
  "kernelspec": {
   "display_name": "Python 3",
   "language": "python",
   "name": "python3"
  },
  "language_info": {
   "codemirror_mode": {
    "name": "ipython",
    "version": 3
   },
   "file_extension": ".py",
   "mimetype": "text/x-python",
   "name": "python",
   "nbconvert_exporter": "python",
   "pygments_lexer": "ipython3",
   "version": "3.7.0"
  }
 },
 "nbformat": 4,
 "nbformat_minor": 2
}
